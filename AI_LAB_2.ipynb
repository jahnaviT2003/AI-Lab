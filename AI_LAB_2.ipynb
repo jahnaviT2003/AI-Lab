{
  "nbformat": 4,
  "nbformat_minor": 0,
  "metadata": {
    "colab": {
      "name": "AI LAB-2.ipynb",
      "provenance": [],
      "collapsed_sections": []
    },
    "kernelspec": {
      "name": "python3",
      "display_name": "Python 3"
    },
    "language_info": {
      "name": "python"
    }
  },
  "cells": [
    {
      "cell_type": "markdown",
      "source": [
        "# **FOLDER CLEANER**"
      ],
      "metadata": {
        "id": "kxYqZRioykKn"
      }
    },
    {
      "cell_type": "code",
      "source": [
        "#IMPORTING THE REQUIRED LIBRARIES \n",
        "import random\n",
        "import sys"
      ],
      "metadata": {
        "id": "MwhHpe3Txm7F"
      },
      "execution_count": null,
      "outputs": []
    },
    {
      "cell_type": "code",
      "source": [
        "class Environment(object):\n",
        "    def __init__(self):\n",
        "        # create inital values for the location and  intermediate, temporary, junk, and all unwanted files status. \n",
        "        # Location in C and D drive. \n",
        "        # 0 = wanted, 1 = unwanted\n",
        "        self.locationCondition = {'C': '0', 'D': '0'}\n",
        "\n",
        "        # randomize the conditions for each location\n",
        "        self.locationCondition['C'] = random.randint(0, 1)\n",
        "        self.locationCondition['D'] = random.randint(0, 1)\n",
        "\n",
        "        print(self.locationCondition)\n",
        "\n",
        "        if(self.locationCondition['C'] == 0 and self.locationCondition['D'] == 0):\n",
        "            print(\"Both C, D drives have all important and wanted files..No need to filter anything..\")\n",
        "            print(\"EXITING PROGRAM...\")\n",
        "            sys.exit()\n",
        "        elif(self.locationCondition['C'] == 0 and self.locationCondition['D'] == 1):\n",
        "            print(\"C drive has all wanted files but there is some junk in D drive so it has to be filtered..\")\n",
        "        elif(self.locationCondition['C'] == 1 and self.locationCondition['D'] == 0):\n",
        "            print(\"C drive has all wanted files but there is some junk in D drive so it has to be filtered..\")\n",
        "        elif(self.locationCondition['C'] == 1 and self.locationCondition['D'] == 1):\n",
        "            print(\"Both C and D drive has unwanted files. Both has to be filtered..\")\n",
        "        else:\n",
        "            print(\"There was an error initializing the folder status\")\n",
        "            print(\"EXITING PROGRAM...\")\n",
        "            sys.exit()"
      ],
      "metadata": {
        "id": "50mzK3G4xwTw"
      },
      "execution_count": null,
      "outputs": []
    },
    {
      "cell_type": "code",
      "source": [
        "class SimpleReflexAgent(Environment):\n",
        "\n",
        "    def __init__(self, Environment):\n",
        "        initDriveLocation = random.randint(0, 1)\n",
        "        currentDriveLocation = initDriveLocation\n",
        "\n",
        "        if(initDriveLocation == 0):\n",
        "            print(\"Folder cleaner is in C drive\")\n",
        "        else:\n",
        "            print(\"Folder cleaner is in D drive\")\n",
        "\n",
        "        if(Environment.locationCondition['C'] == 0 and Environment.locationCondition['D'] == 1 and currentDriveLocation == 0):\n",
        "            print(\"Folder Cleaner moving from C drive to D drive\")\n",
        "            currentDriveLocation = 1\n",
        "            print(\"Folder cleaner is in D drive\")\n",
        "            print(\"Filtering files in D drive\")\n",
        "            Environment.locationCondition['D'] = 0\n",
        "            print(\"Files in D drive got filtered\")\n",
        "            print(\"The status of the Folders are now:\")\n",
        "            print(Environment.locationCondition)\n",
        "            print(\"EXITING THE PROGRAM\")\n",
        "            sys.exit()\n",
        "        elif(Environment.locationCondition['C'] == 0 and Environment.locationCondition['D'] == 1 and currentDriveLocation == 1):\n",
        "           # Filter D drive and then exit\n",
        "            print(\"Filtering the files in D drive\")\n",
        "            Environment.locationCondition['D'] = 0\n",
        "            print(\"D drive has been fitered\")\n",
        "            print(\"The status of the Folders are now:\")\n",
        "            print(Environment.locationCondition)\n",
        "            print(\"EXITING THE PROGRAM\")\n",
        "            sys.exit()\n",
        "        elif(Environment.locationCondition['C'] == 1 and Environment.locationCondition['D'] == 0 and currentDriveLocation == 0):\n",
        "           # Filter C drive and then exit\n",
        "            print(\"Filtering the files in C drive\")\n",
        "            Environment.locationCondition['C'] = 0\n",
        "            print(\"C drive has been fitered\")\n",
        "            print(\"The status of the Folders are now:\")\n",
        "            print(Environment.locationCondition)\n",
        "            print(\"EXITING THE PROGRAM\")\n",
        "            sys.exit()\n",
        "        elif(Environment.locationCondition['C'] == 1 and Environment.locationCondition['D'] == 0 and currentDriveLocation == 1):\n",
        "            print(\"Folder Cleaner moving from D drive to C drive\")\n",
        "            currentDriveLocation = 1\n",
        "            print(\"Folder cleaner is in C drive\")\n",
        "            print(\"Filtering files in C drive\")\n",
        "            Environment.locationCondition['C'] = 0\n",
        "            print(\"Files in C drive got filtered\")\n",
        "            print(\"The status of the Folders are now:\")\n",
        "            print(Environment.locationCondition)\n",
        "            print(\"EXITING THE PROGRAM\")\n",
        "            sys.exit()\n",
        "        elif(Environment.locationCondition['C'] == 1 and Environment.locationCondition['D'] == 1 and currentDriveLocation == 0):\n",
        "           # Filter C drive files and then move to D drive files and then exit \n",
        "            print(\"Filtering the files in C drive\")\n",
        "            Environment.locationCondition['C'] = 0\n",
        "            print(\"C drive has been fitered\")\n",
        "            print(\"Moving the Folder Cleaner from C drive to D drive\")\n",
        "            currentDriveLocation = 1\n",
        "            print(\"Folder Cleaner is in D drive\")\n",
        "            print(\"Filtering the files in D drive\")\n",
        "            Environment.locationCondition['D'] = 0\n",
        "            print(\"Files in D drive got filtered\")\n",
        "            print(\"The status of the Folders are now:\")\n",
        "            print(Environment.locationCondition)\n",
        "            print(\"EXITING THE PROGRAM\")\n",
        "            sys.exit()\n",
        "        elif(Environment.locationCondition['C'] == 1 and Environment.locationCondition['D'] == 1 and currentDriveLocation == 1):\n",
        "           # Filter D drive files and then move to C drive and filter them and exit..\n",
        "            print(\"Filtering the files in D drive\")\n",
        "            Environment.locationCondition['D'] = 0\n",
        "            print(\"D drive has been fitered\")\n",
        "            print(\"Moving the Folder Cleaner from D drive to C drive\")\n",
        "            currentDriveLocation = 0\n",
        "            print(\"Folder Cleaner is in C drive\")\n",
        "            print(\"Filtering the files in C drive\")\n",
        "            Environment.locationCondition['C'] = 0\n",
        "            print(\"Files in C drive got filtered\")\n",
        "            print(\"The status of the Folders are now:\")\n",
        "            print(Environment.locationCondition)\n",
        "            print(\"EXITING THE PROGRAM\")\n",
        "            sys.exit()\n",
        "        else:\n",
        "            print(\"There was an error when Filtering the files\")\n",
        "            print(\"EXITING THE PROGRAM\")\n",
        "            sys.exit()\n"
      ],
      "metadata": {
        "id": "W5vJ4RD50OJI"
      },
      "execution_count": null,
      "outputs": []
    },
    {
      "cell_type": "code",
      "source": [
        "FolderCleanerEnvironment = Environment()\n",
        "FolderCleanerAgent = SimpleReflexAgent(FolderCleanerEnvironment)"
      ],
      "metadata": {
        "colab": {
          "base_uri": "https://localhost:8080/",
          "height": 321
        },
        "id": "BzqWgFsM4eKK",
        "outputId": "a61859db-c27c-4cba-9342-0f942014b0b3"
      },
      "execution_count": null,
      "outputs": [
        {
          "output_type": "stream",
          "name": "stdout",
          "text": [
            "{'C': 0, 'D': 1}\n",
            "C drive has all wanted files but there is some junk in D drive so it has to be filtered..\n",
            "Folder cleaner is in C drive\n",
            "Folder Cleaner moving from C drive to D drive\n",
            "Folder cleaner is in D drive\n",
            "Filtering files in D drive\n",
            "Files in D drive got filtered\n",
            "The status of the Folders are now:\n",
            "{'C': 0, 'D': 0}\n",
            "EXITING THE PROGRAM\n"
          ]
        },
        {
          "output_type": "error",
          "ename": "SystemExit",
          "evalue": "ignored",
          "traceback": [
            "An exception has occurred, use %tb to see the full traceback.\n",
            "\u001b[0;31mSystemExit\u001b[0m\n"
          ]
        },
        {
          "output_type": "stream",
          "name": "stderr",
          "text": [
            "/usr/local/lib/python3.7/dist-packages/IPython/core/interactiveshell.py:2890: UserWarning: To exit: use 'exit', 'quit', or Ctrl-D.\n",
            "  warn(\"To exit: use 'exit', 'quit', or Ctrl-D.\", stacklevel=1)\n"
          ]
        }
      ]
    }
  ]
}