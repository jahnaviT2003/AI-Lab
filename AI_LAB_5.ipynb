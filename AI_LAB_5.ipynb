{
  "nbformat": 4,
  "nbformat_minor": 0,
  "metadata": {
    "colab": {
      "name": "AI LAB-5.ipynb",
      "provenance": [],
      "collapsed_sections": []
    },
    "kernelspec": {
      "name": "python3",
      "display_name": "Python 3"
    },
    "language_info": {
      "name": "python"
    }
  },
  "cells": [
    {
      "cell_type": "code",
      "source": [
        "#################################\n",
        "## Describes the rectangle map ##\n",
        "## - S - Start point           ##\n",
        "## - E - End point             ##\n",
        "## - # - Wall                  ##\n",
        "#################################\n",
        "MAP = [\n",
        "    \".............\",\n",
        "    \"..#.......##.\",\n",
        "    \"..#...#...#..\",\n",
        "    \"..#.E.#......\",\n",
        "    \"..#####......\",\n",
        "    \"S............\",\n",
        "]"
      ],
      "metadata": {
        "id": "k81Ooo2sOlgg"
      },
      "execution_count": null,
      "outputs": []
    },
    {
      "cell_type": "code",
      "source": [
        "### Describes model of Map\n",
        "\n",
        "class SquareGrid:\n",
        "    \n",
        "    def __init__(self, string_map):\n",
        "        self.string_map = string_map\n",
        "        self.end_position = None\n",
        "        self.start_position = None\n",
        "        self.walls = []\n",
        "        self.height = len(string_map)\n",
        "        self.width  = len(string_map[0])\n",
        "        \n",
        "        ## Validate input\n",
        "        for i in range(0, self.height):\n",
        "            if(len(string_map[i]) != self.width):\n",
        "                 raise Exception(\"Map does not have correct size\")\n",
        "            for j in range(0, self.width):\n",
        "                if(string_map[i][j] == \"#\"):\n",
        "                    self.walls.append((i, j))\n",
        "                if(string_map[i][j] == \"S\"):\n",
        "                    self.start_position = (i, j)\n",
        "                if(string_map[i][j] == \"E\"):\n",
        "                    self.end_position = (i, j)\n",
        "        if(self.end_position == None or self.start_position == None):\n",
        "            raise Exception(\"Map does not have 'Start' or 'End' Positions\")\n",
        "            \n",
        "    \n",
        "    def in_bounds(self, id):\n",
        "        (x, y) = id\n",
        "        return 0 <= x < self.width and 0 <= y < self.height\n",
        "    \n",
        "    def passable(self, id):\n",
        "        return id not in self.walls\n",
        "    \n",
        "    def neighbors(self, id):\n",
        "        (x, y) = id\n",
        "        results = [(x+1, y), (x, y-1), (x-1, y), (x, y+1)]\n",
        "\n",
        "        results = filter(self.in_bounds, results)\n",
        "        results = filter(self.passable, results)\n",
        "        return results\n",
        "    \n",
        "    def cost(self, current, next):\n",
        "        return 1\n",
        "    \n",
        "        \n",
        "    def get_start_end_positions(self):\n",
        "        return self.start_position, self.end_position;\n",
        "    \n",
        "    def draw(self, path = []):\n",
        "        new_map = []\n",
        "        # Fill empty\n",
        "        for x in range(self.height):\n",
        "            new_map.append(\".\" * self.width)\n",
        "\n",
        "        # Draw Walls\n",
        "        for x in self.walls:\n",
        "            (i, j) = x\n",
        "            row = list(new_map[i])\n",
        "            row[j] = \"#\"\n",
        "            new_map[i] = \"\".join(row)\n",
        "\n",
        "        # Draw Path\n",
        "        for x in path:\n",
        "            (i, j) = x\n",
        "            row = list(new_map[i])\n",
        "            row[j] = \"x\"\n",
        "            new_map[i] = \"\".join(row)\n",
        "        \n",
        "        # Draw Start end End  Point\n",
        "        (i, j) = self.start_position\n",
        "        row = list(new_map[i])\n",
        "        row[j] = \"S\"\n",
        "        new_map[i] = \"\".join(row)\n",
        "\n",
        "        (i, j) = self.end_position\n",
        "        row = list(new_map[i])\n",
        "        row[j] = \"E\"\n",
        "        new_map[i] = \"\".join(row)\n",
        "\n",
        "        # Draw Map\n",
        "        for i in new_map:\n",
        "            print(i)\n"
      ],
      "metadata": {
        "id": "BN8Z54PmOo8Y"
      },
      "execution_count": null,
      "outputs": []
    },
    {
      "cell_type": "code",
      "source": [
        "### Create a Map and draw it\n",
        "g = SquareGrid(MAP)\n",
        "g.draw()"
      ],
      "metadata": {
        "colab": {
          "base_uri": "https://localhost:8080/"
        },
        "id": "WmsonC_iOvcs",
        "outputId": "7fe154c3-9fe9-4f4f-f493-91d8d46bff9f"
      },
      "execution_count": null,
      "outputs": [
        {
          "output_type": "stream",
          "name": "stdout",
          "text": [
            ".............\n",
            "..#.......##.\n",
            "..#...#...#..\n",
            "..#.E.#......\n",
            "..#####......\n",
            "S............\n"
          ]
        }
      ]
    },
    {
      "cell_type": "code",
      "source": [
        "### Queue with priority\n",
        "import heapq\n",
        "\n",
        "class PriorityQueue:\n",
        "    def __init__(self):\n",
        "        self.elements = []\n",
        "    \n",
        "    def empty(self):\n",
        "        return len(self.elements) == 0\n",
        "    \n",
        "    def put(self, item, priority):\n",
        "        heapq.heappush(self.elements, (priority, item))\n",
        "    \n",
        "    def get(self):\n",
        "        return heapq.heappop(self.elements)[1]"
      ],
      "metadata": {
        "id": "ZZ_SEjBfO0kK"
      },
      "execution_count": null,
      "outputs": []
    },
    {
      "cell_type": "code",
      "source": [
        "### Heuristic function for accounting in cost\n",
        "def heuristic(a, b):\n",
        "    (x1, y1) = a\n",
        "    (x2, y2) = b\n",
        "    return ((x1 - x2)**2 + (y1 - y2)**2)**.5\n",
        "\n",
        "### A Star Search algorithm\n",
        "def a_star_search(graph, start, goal):\n",
        "    frontier = PriorityQueue()\n",
        "    frontier.put(start, 0)\n",
        "    came_from = {}\n",
        "    cost_so_far = {}\n",
        "    came_from[start] = None\n",
        "    cost_so_far[start] = 0\n",
        "    counter = 0\n",
        "    \n",
        "    while not frontier.empty():\n",
        "        current = frontier.get()\n",
        "        \n",
        "        if current == goal:\n",
        "            break\n",
        "\n",
        "        for next in graph.neighbors(current):\n",
        "            new_cost = cost_so_far[current] + graph.cost(current, next)\n",
        "            if next not in cost_so_far or new_cost < cost_so_far[next]:\n",
        "                cost_so_far[next] = new_cost\n",
        "                priority = new_cost + heuristic(goal, next)\n",
        "                frontier.put(next, priority)\n",
        "                came_from[next] = current\n",
        "                counter += 1   \n",
        "    \n",
        "    return came_from, cost_so_far, counter\n",
        "\n",
        "### Finds the way between points according to dictionary\n",
        "def build_path(came_from, start, goal):\n",
        "    result = []\n",
        "    item = goal\n",
        "    result.append(item)\n",
        "    while (item != start):\n",
        "        item = came_from.get(item)\n",
        "        if(item == None):\n",
        "            raise Exception('There is no path')\n",
        "        result.append(item);\n",
        "    \n",
        "    return result[::-1];"
      ],
      "metadata": {
        "id": "S0J_zsDjO170"
      },
      "execution_count": null,
      "outputs": []
    },
    {
      "cell_type": "code",
      "source": [
        "### Run Search\n",
        "start, goal = g.get_start_end_positions()\n",
        "came_from, cost_so_far, counter = a_star_search(g, start, goal)\n",
        "\n",
        "### Build Path\n",
        "path = build_path(came_from, start, goal)\n",
        "path.remove(start)\n",
        "path.remove(goal)\n",
        "\n",
        "### See result\n",
        "print(g.get_start_end_positions())\n",
        "print(path)\n"
      ],
      "metadata": {
        "colab": {
          "base_uri": "https://localhost:8080/"
        },
        "id": "R_oiH7LyO9Ta",
        "outputId": "4436ab93-2a2a-4b53-d7dc-88dde045fc16"
      },
      "execution_count": null,
      "outputs": [
        {
          "output_type": "stream",
          "name": "stdout",
          "text": [
            "((5, 0), (3, 4))\n",
            "[(5, 1), (4, 1), (3, 1), (2, 1), (1, 1), (0, 1), (0, 2), (0, 3), (1, 3), (2, 3), (2, 4)]\n"
          ]
        }
      ]
    },
    {
      "cell_type": "code",
      "source": [
        "counter"
      ],
      "metadata": {
        "colab": {
          "base_uri": "https://localhost:8080/"
        },
        "id": "wlQdmkMsPBXE",
        "outputId": "38e1e708-d734-4149-c6aa-8753b3947319"
      },
      "execution_count": null,
      "outputs": [
        {
          "output_type": "execute_result",
          "data": {
            "text/plain": [
              "51"
            ]
          },
          "metadata": {},
          "execution_count": 13
        }
      ]
    },
    {
      "cell_type": "code",
      "source": [
        "### Draw Path\n",
        "g.draw(path)"
      ],
      "metadata": {
        "colab": {
          "base_uri": "https://localhost:8080/"
        },
        "id": "IGjS1fPmPFKl",
        "outputId": "aa8d1d0c-b49f-48ad-89f7-01c2bc9dd7da"
      },
      "execution_count": null,
      "outputs": [
        {
          "output_type": "stream",
          "name": "stdout",
          "text": [
            ".xxx.........\n",
            ".x#x......##.\n",
            ".x#xx.#...#..\n",
            ".x#.E.#......\n",
            ".x#####......\n",
            "Sx...........\n"
          ]
        }
      ]
    }
  ]
}